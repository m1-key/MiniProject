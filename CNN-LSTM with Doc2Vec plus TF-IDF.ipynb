{
 "cells": [
  {
   "cell_type": "code",
   "execution_count": 1,
   "metadata": {
    "_cell_guid": "c89c6d78-cd49-43b4-99b7-262151427d57",
    "_uuid": "bc244d28a1532f3842dd1739cec5adff4e4b6c79"
   },
   "outputs": [],
   "source": [
    "import pandas as pd\n",
    "import numpy as np\n",
    "from keras.preprocessing import sequence\n",
    "from keras.layers import TimeDistributed, GlobalAveragePooling1D, GlobalAveragePooling2D, BatchNormalization\n",
    "from keras.layers.recurrent import LSTM\n",
    "from keras.layers.convolutional import Conv1D, MaxPooling1D, Conv2D, MaxPooling2D, AveragePooling1D\n",
    "from keras.layers.embeddings import Embedding\n",
    "from keras.layers import Dropout, Flatten, Bidirectional, Dense, Activation, TimeDistributed\n",
    "from keras.models import Model, Sequential\n",
    "from keras.utils import np_utils\n",
    "from sklearn.model_selection import train_test_split\n",
    "from sklearn.preprocessing import LabelEncoder\n",
    "from nltk.corpus import stopwords\n",
    "from nltk.tokenize import word_tokenize, sent_tokenize\n",
    "from nltk.stem.wordnet import WordNetLemmatizer\n",
    "from string import ascii_lowercase\n",
    "from collections import Counter\n",
    "from gensim.models import Word2Vec\n",
    "from gensim.models import Doc2Vec\n",
    "from gensim.models import doc2vec\n",
    "from gensim.models import KeyedVectors\n",
    "import itertools, nltk, snowballstemmer, re\n",
    "\n",
    "LabeledSentence = doc2vec.LabeledSentence"
   ]
  },
  {
   "cell_type": "code",
   "execution_count": 2,
   "metadata": {
    "_cell_guid": "66eaff70-1bb2-436f-ac31-b85281a2876d",
    "_uuid": "4402fef233db64bf46f51e3bdd0aadc111b11753"
   },
   "outputs": [],
   "source": [
    "class LabeledLineSentence(object):\n",
    "    def __init__(self, sources):\n",
    "        self.sources = sources\n",
    "        \n",
    "        flipped = {}\n",
    "        \n",
    "        # make sure that keys are unique\n",
    "        for key, value in sources.items():\n",
    "            if value not in flipped:\n",
    "                flipped[value] = [key]\n",
    "            else:\n",
    "                raise Exception('Non-unique prefix encountered')\n",
    "    \n",
    "    def __iter__(self):\n",
    "        for source, prefix in self.sources.items():\n",
    "            with utils.smart_open(source) as fin:\n",
    "                for item_no, line in enumerate(fin):\n",
    "                    yield LabeledSentence(utils.to_unicode(line).split(), [prefix + '_%s' % item_no])\n",
    "    \n",
    "    def to_array(self):\n",
    "        self.sentences = []\n",
    "        for source, prefix in self.sources.items():\n",
    "            with utils.smart_open(source) as fin:\n",
    "                for item_no, line in enumerate(fin):\n",
    "                    self.sentences.append(LabeledSentence(utils.to_unicode(line).split(), [prefix + '_%s' % item_no]))\n",
    "        return self.sentences\n",
    "    \n",
    "    def sentences_perm(self):\n",
    "        shuffled = list(self.sentences)\n",
    "        random.shuffle(shuffled)\n",
    "        return shuffled"
   ]
  },
  {
   "cell_type": "code",
   "execution_count": 3,
   "metadata": {
    "_cell_guid": "eac514b4-5efb-4291-81a3-6730a0cdac61",
    "_uuid": "57bed5b9fd3ad963809205d71d0883a9e38bb9f9"
   },
   "outputs": [],
   "source": [
    "#data = pd.read_csv('deceptive-opinion-spam-corpus.zip', compression='zip', header=0, sep=',', quotechar='\"')\n",
    "data = pd.read_csv(\"./deceptive-opinion.csv\")"
   ]
  },
  {
   "cell_type": "code",
   "execution_count": 4,
   "metadata": {
    "_cell_guid": "5aedff72-437f-4530-9bfe-56165ddd9690",
    "_uuid": "0d7d60b7569b847685579a73ded95641fcfe63d1"
   },
   "outputs": [],
   "source": [
    "data['polarity'] = np.where(data['polarity']=='positive', 1, 0)\n",
    "data['deceptive'] = np.where(data['deceptive']=='truthful', 1, 0)"
   ]
  },
  {
   "cell_type": "code",
   "execution_count": 5,
   "metadata": {},
   "outputs": [
    {
     "data": {
      "text/html": [
       "<div>\n",
       "<style scoped>\n",
       "    .dataframe tbody tr th:only-of-type {\n",
       "        vertical-align: middle;\n",
       "    }\n",
       "\n",
       "    .dataframe tbody tr th {\n",
       "        vertical-align: top;\n",
       "    }\n",
       "\n",
       "    .dataframe thead th {\n",
       "        text-align: right;\n",
       "    }\n",
       "</style>\n",
       "<table border=\"1\" class=\"dataframe\">\n",
       "  <thead>\n",
       "    <tr style=\"text-align: right;\">\n",
       "      <th></th>\n",
       "      <th>deceptive</th>\n",
       "      <th>hotel</th>\n",
       "      <th>polarity</th>\n",
       "      <th>source</th>\n",
       "      <th>text</th>\n",
       "    </tr>\n",
       "  </thead>\n",
       "  <tbody>\n",
       "    <tr>\n",
       "      <th>0</th>\n",
       "      <td>1</td>\n",
       "      <td>conrad</td>\n",
       "      <td>1</td>\n",
       "      <td>TripAdvisor</td>\n",
       "      <td>We stayed for a one night getaway with family ...</td>\n",
       "    </tr>\n",
       "    <tr>\n",
       "      <th>1</th>\n",
       "      <td>1</td>\n",
       "      <td>hyatt</td>\n",
       "      <td>1</td>\n",
       "      <td>TripAdvisor</td>\n",
       "      <td>Triple A rate with upgrade to view room was le...</td>\n",
       "    </tr>\n",
       "    <tr>\n",
       "      <th>2</th>\n",
       "      <td>1</td>\n",
       "      <td>hyatt</td>\n",
       "      <td>1</td>\n",
       "      <td>TripAdvisor</td>\n",
       "      <td>This comes a little late as I'm finally catchi...</td>\n",
       "    </tr>\n",
       "    <tr>\n",
       "      <th>3</th>\n",
       "      <td>1</td>\n",
       "      <td>omni</td>\n",
       "      <td>1</td>\n",
       "      <td>TripAdvisor</td>\n",
       "      <td>The Omni Chicago really delivers on all fronts...</td>\n",
       "    </tr>\n",
       "    <tr>\n",
       "      <th>4</th>\n",
       "      <td>1</td>\n",
       "      <td>hyatt</td>\n",
       "      <td>1</td>\n",
       "      <td>TripAdvisor</td>\n",
       "      <td>I asked for a high floor away from the elevato...</td>\n",
       "    </tr>\n",
       "  </tbody>\n",
       "</table>\n",
       "</div>"
      ],
      "text/plain": [
       "   deceptive   hotel  polarity       source  \\\n",
       "0          1  conrad         1  TripAdvisor   \n",
       "1          1   hyatt         1  TripAdvisor   \n",
       "2          1   hyatt         1  TripAdvisor   \n",
       "3          1    omni         1  TripAdvisor   \n",
       "4          1   hyatt         1  TripAdvisor   \n",
       "\n",
       "                                                text  \n",
       "0  We stayed for a one night getaway with family ...  \n",
       "1  Triple A rate with upgrade to view room was le...  \n",
       "2  This comes a little late as I'm finally catchi...  \n",
       "3  The Omni Chicago really delivers on all fronts...  \n",
       "4  I asked for a high floor away from the elevato...  "
      ]
     },
     "execution_count": 5,
     "metadata": {},
     "output_type": "execute_result"
    }
   ],
   "source": [
    "data.head()"
   ]
  },
  {
   "cell_type": "code",
   "execution_count": 6,
   "metadata": {},
   "outputs": [],
   "source": [
    "df = data.sample(frac=1)"
   ]
  },
  {
   "cell_type": "code",
   "execution_count": 7,
   "metadata": {},
   "outputs": [
    {
     "data": {
      "text/html": [
       "<div>\n",
       "<style scoped>\n",
       "    .dataframe tbody tr th:only-of-type {\n",
       "        vertical-align: middle;\n",
       "    }\n",
       "\n",
       "    .dataframe tbody tr th {\n",
       "        vertical-align: top;\n",
       "    }\n",
       "\n",
       "    .dataframe thead th {\n",
       "        text-align: right;\n",
       "    }\n",
       "</style>\n",
       "<table border=\"1\" class=\"dataframe\">\n",
       "  <thead>\n",
       "    <tr style=\"text-align: right;\">\n",
       "      <th></th>\n",
       "      <th>deceptive</th>\n",
       "      <th>hotel</th>\n",
       "      <th>polarity</th>\n",
       "      <th>source</th>\n",
       "      <th>text</th>\n",
       "    </tr>\n",
       "  </thead>\n",
       "  <tbody>\n",
       "    <tr>\n",
       "      <th>510</th>\n",
       "      <td>0</td>\n",
       "      <td>sheraton</td>\n",
       "      <td>1</td>\n",
       "      <td>MTurk</td>\n",
       "      <td>The Sheraton Chicago Hotel and Towers is a mag...</td>\n",
       "    </tr>\n",
       "    <tr>\n",
       "      <th>1044</th>\n",
       "      <td>1</td>\n",
       "      <td>james</td>\n",
       "      <td>0</td>\n",
       "      <td>Web</td>\n",
       "      <td>Just returned from the James Hotel after stayi...</td>\n",
       "    </tr>\n",
       "    <tr>\n",
       "      <th>662</th>\n",
       "      <td>0</td>\n",
       "      <td>james</td>\n",
       "      <td>1</td>\n",
       "      <td>MTurk</td>\n",
       "      <td>We decided to stay at The James last weekend w...</td>\n",
       "    </tr>\n",
       "    <tr>\n",
       "      <th>1450</th>\n",
       "      <td>0</td>\n",
       "      <td>sofitel</td>\n",
       "      <td>0</td>\n",
       "      <td>MTurk</td>\n",
       "      <td>I recently stayed at the Sofitel Hotel (Chicag...</td>\n",
       "    </tr>\n",
       "    <tr>\n",
       "      <th>138</th>\n",
       "      <td>1</td>\n",
       "      <td>knickerbocker</td>\n",
       "      <td>1</td>\n",
       "      <td>TripAdvisor</td>\n",
       "      <td>I love this hotel. It is one of the best that ...</td>\n",
       "    </tr>\n",
       "  </tbody>\n",
       "</table>\n",
       "</div>"
      ],
      "text/plain": [
       "      deceptive          hotel  polarity       source  \\\n",
       "510           0       sheraton         1        MTurk   \n",
       "1044          1          james         0          Web   \n",
       "662           0          james         1        MTurk   \n",
       "1450          0        sofitel         0        MTurk   \n",
       "138           1  knickerbocker         1  TripAdvisor   \n",
       "\n",
       "                                                   text  \n",
       "510   The Sheraton Chicago Hotel and Towers is a mag...  \n",
       "1044  Just returned from the James Hotel after stayi...  \n",
       "662   We decided to stay at The James last weekend w...  \n",
       "1450  I recently stayed at the Sofitel Hotel (Chicag...  \n",
       "138   I love this hotel. It is one of the best that ...  "
      ]
     },
     "execution_count": 7,
     "metadata": {},
     "output_type": "execute_result"
    }
   ],
   "source": [
    "df.head()"
   ]
  },
  {
   "cell_type": "code",
   "execution_count": 8,
   "metadata": {},
   "outputs": [
    {
     "data": {
      "text/html": [
       "<div>\n",
       "<style scoped>\n",
       "    .dataframe tbody tr th:only-of-type {\n",
       "        vertical-align: middle;\n",
       "    }\n",
       "\n",
       "    .dataframe tbody tr th {\n",
       "        vertical-align: top;\n",
       "    }\n",
       "\n",
       "    .dataframe thead th {\n",
       "        text-align: right;\n",
       "    }\n",
       "</style>\n",
       "<table border=\"1\" class=\"dataframe\">\n",
       "  <thead>\n",
       "    <tr style=\"text-align: right;\">\n",
       "      <th></th>\n",
       "      <th>deceptive</th>\n",
       "      <th>polarity</th>\n",
       "    </tr>\n",
       "  </thead>\n",
       "  <tbody>\n",
       "    <tr>\n",
       "      <th>count</th>\n",
       "      <td>1600.000000</td>\n",
       "      <td>1600.000000</td>\n",
       "    </tr>\n",
       "    <tr>\n",
       "      <th>mean</th>\n",
       "      <td>0.500000</td>\n",
       "      <td>0.500000</td>\n",
       "    </tr>\n",
       "    <tr>\n",
       "      <th>std</th>\n",
       "      <td>0.500156</td>\n",
       "      <td>0.500156</td>\n",
       "    </tr>\n",
       "    <tr>\n",
       "      <th>min</th>\n",
       "      <td>0.000000</td>\n",
       "      <td>0.000000</td>\n",
       "    </tr>\n",
       "    <tr>\n",
       "      <th>25%</th>\n",
       "      <td>0.000000</td>\n",
       "      <td>0.000000</td>\n",
       "    </tr>\n",
       "    <tr>\n",
       "      <th>50%</th>\n",
       "      <td>0.500000</td>\n",
       "      <td>0.500000</td>\n",
       "    </tr>\n",
       "    <tr>\n",
       "      <th>75%</th>\n",
       "      <td>1.000000</td>\n",
       "      <td>1.000000</td>\n",
       "    </tr>\n",
       "    <tr>\n",
       "      <th>max</th>\n",
       "      <td>1.000000</td>\n",
       "      <td>1.000000</td>\n",
       "    </tr>\n",
       "  </tbody>\n",
       "</table>\n",
       "</div>"
      ],
      "text/plain": [
       "         deceptive     polarity\n",
       "count  1600.000000  1600.000000\n",
       "mean      0.500000     0.500000\n",
       "std       0.500156     0.500156\n",
       "min       0.000000     0.000000\n",
       "25%       0.000000     0.000000\n",
       "50%       0.500000     0.500000\n",
       "75%       1.000000     1.000000\n",
       "max       1.000000     1.000000"
      ]
     },
     "execution_count": 8,
     "metadata": {},
     "output_type": "execute_result"
    }
   ],
   "source": [
    "df.describe()"
   ]
  },
  {
   "cell_type": "code",
   "execution_count": 9,
   "metadata": {
    "_cell_guid": "1a30e639-f406-4320-acd4-b190cb0a1f06",
    "_uuid": "fb20c77b00518d320c96687071080ac60b3ae8e7"
   },
   "outputs": [],
   "source": [
    "def create_class(c):\n",
    "    if c['polarity'] == 1 and c['deceptive'] == 1:\n",
    "        return [1,1]\n",
    "    elif c['polarity'] == 1 and c['deceptive'] == 0:\n",
    "        return [1,0]\n",
    "    elif c['polarity'] == 0 and c['deceptive'] == 1:\n",
    "        return [0,1]\n",
    "    else:\n",
    "        return [0,0]\n",
    "    \n",
    "def specific_class(c):\n",
    "    if c['polarity'] == 1 and c['deceptive'] == 1:\n",
    "        return \"TRUE_POSITIVE\"\n",
    "    elif c['polarity'] == 1 and c['deceptive'] == 0:\n",
    "        return \"FALSE_POSITIVE\"\n",
    "    elif c['polarity'] == 0 and c['deceptive'] == 1:\n",
    "        return \"TRUE_NEGATIVE\"\n",
    "    else:\n",
    "        return \"FALSE_NEGATIVE\"\n",
    "\n",
    "data['final_class'] = data.apply(create_class, axis=1)\n",
    "data['given_class'] = data.apply(specific_class, axis=1)"
   ]
  },
  {
   "cell_type": "code",
   "execution_count": 10,
   "metadata": {},
   "outputs": [
    {
     "data": {
      "text/plain": [
       "0       [1, 1]\n",
       "1       [1, 1]\n",
       "2       [1, 1]\n",
       "3       [1, 1]\n",
       "4       [1, 1]\n",
       "         ...  \n",
       "1595    [0, 0]\n",
       "1596    [0, 0]\n",
       "1597    [0, 0]\n",
       "1598    [0, 0]\n",
       "1599    [0, 0]\n",
       "Name: final_class, Length: 1600, dtype: object"
      ]
     },
     "execution_count": 10,
     "metadata": {},
     "output_type": "execute_result"
    }
   ],
   "source": [
    "data['final_class']"
   ]
  },
  {
   "cell_type": "code",
   "execution_count": 11,
   "metadata": {},
   "outputs": [
    {
     "data": {
      "text/html": [
       "<div>\n",
       "<style scoped>\n",
       "    .dataframe tbody tr th:only-of-type {\n",
       "        vertical-align: middle;\n",
       "    }\n",
       "\n",
       "    .dataframe tbody tr th {\n",
       "        vertical-align: top;\n",
       "    }\n",
       "\n",
       "    .dataframe thead th {\n",
       "        text-align: right;\n",
       "    }\n",
       "</style>\n",
       "<table border=\"1\" class=\"dataframe\">\n",
       "  <thead>\n",
       "    <tr style=\"text-align: right;\">\n",
       "      <th></th>\n",
       "      <th>deceptive</th>\n",
       "      <th>hotel</th>\n",
       "      <th>polarity</th>\n",
       "      <th>source</th>\n",
       "      <th>text</th>\n",
       "      <th>final_class</th>\n",
       "      <th>given_class</th>\n",
       "    </tr>\n",
       "  </thead>\n",
       "  <tbody>\n",
       "    <tr>\n",
       "      <th>0</th>\n",
       "      <td>1</td>\n",
       "      <td>conrad</td>\n",
       "      <td>1</td>\n",
       "      <td>TripAdvisor</td>\n",
       "      <td>We stayed for a one night getaway with family ...</td>\n",
       "      <td>[1, 1]</td>\n",
       "      <td>TRUE_POSITIVE</td>\n",
       "    </tr>\n",
       "    <tr>\n",
       "      <th>1</th>\n",
       "      <td>1</td>\n",
       "      <td>hyatt</td>\n",
       "      <td>1</td>\n",
       "      <td>TripAdvisor</td>\n",
       "      <td>Triple A rate with upgrade to view room was le...</td>\n",
       "      <td>[1, 1]</td>\n",
       "      <td>TRUE_POSITIVE</td>\n",
       "    </tr>\n",
       "    <tr>\n",
       "      <th>2</th>\n",
       "      <td>1</td>\n",
       "      <td>hyatt</td>\n",
       "      <td>1</td>\n",
       "      <td>TripAdvisor</td>\n",
       "      <td>This comes a little late as I'm finally catchi...</td>\n",
       "      <td>[1, 1]</td>\n",
       "      <td>TRUE_POSITIVE</td>\n",
       "    </tr>\n",
       "    <tr>\n",
       "      <th>3</th>\n",
       "      <td>1</td>\n",
       "      <td>omni</td>\n",
       "      <td>1</td>\n",
       "      <td>TripAdvisor</td>\n",
       "      <td>The Omni Chicago really delivers on all fronts...</td>\n",
       "      <td>[1, 1]</td>\n",
       "      <td>TRUE_POSITIVE</td>\n",
       "    </tr>\n",
       "    <tr>\n",
       "      <th>4</th>\n",
       "      <td>1</td>\n",
       "      <td>hyatt</td>\n",
       "      <td>1</td>\n",
       "      <td>TripAdvisor</td>\n",
       "      <td>I asked for a high floor away from the elevato...</td>\n",
       "      <td>[1, 1]</td>\n",
       "      <td>TRUE_POSITIVE</td>\n",
       "    </tr>\n",
       "  </tbody>\n",
       "</table>\n",
       "</div>"
      ],
      "text/plain": [
       "   deceptive   hotel  polarity       source  \\\n",
       "0          1  conrad         1  TripAdvisor   \n",
       "1          1   hyatt         1  TripAdvisor   \n",
       "2          1   hyatt         1  TripAdvisor   \n",
       "3          1    omni         1  TripAdvisor   \n",
       "4          1   hyatt         1  TripAdvisor   \n",
       "\n",
       "                                                text final_class  \\\n",
       "0  We stayed for a one night getaway with family ...      [1, 1]   \n",
       "1  Triple A rate with upgrade to view room was le...      [1, 1]   \n",
       "2  This comes a little late as I'm finally catchi...      [1, 1]   \n",
       "3  The Omni Chicago really delivers on all fronts...      [1, 1]   \n",
       "4  I asked for a high floor away from the elevato...      [1, 1]   \n",
       "\n",
       "     given_class  \n",
       "0  TRUE_POSITIVE  \n",
       "1  TRUE_POSITIVE  \n",
       "2  TRUE_POSITIVE  \n",
       "3  TRUE_POSITIVE  \n",
       "4  TRUE_POSITIVE  "
      ]
     },
     "execution_count": 11,
     "metadata": {},
     "output_type": "execute_result"
    }
   ],
   "source": [
    "data.head()"
   ]
  },
  {
   "cell_type": "code",
   "execution_count": 12,
   "metadata": {},
   "outputs": [],
   "source": [
    " # Import label encoder \n",
    "from sklearn import preprocessing \n",
    "  \n",
    "# label_encoder object knows how to understand word labels. \n",
    "label_encoder = preprocessing.LabelEncoder() \n",
    "  \n",
    "# Encode labels in column 'species'. \n",
    "data['given_class']= label_encoder.fit_transform(data['given_class']) "
   ]
  },
  {
   "cell_type": "code",
   "execution_count": 13,
   "metadata": {},
   "outputs": [
    {
     "data": {
      "text/plain": [
       "array([3, 1, 2, 0])"
      ]
     },
     "execution_count": 13,
     "metadata": {},
     "output_type": "execute_result"
    }
   ],
   "source": [
    "data['given_class'].unique()"
   ]
  },
  {
   "cell_type": "code",
   "execution_count": 14,
   "metadata": {
    "_cell_guid": "4eaeb14e-a7f3-455e-b43c-64b26bdccd7b",
    "_uuid": "6151435f72f8802262e5b748a4039bbc4074943f"
   },
   "outputs": [],
   "source": [
    "Y = data['given_class']\n",
    "# encode class values as integers\n",
    "encoder = LabelEncoder()\n",
    "encoder.fit(Y)\n",
    "encoded_Y = encoder.transform(Y)\n",
    "# convert integers to dummy variables (i.e. one hot encoded)\n",
    "dummy_y = np_utils.to_categorical(encoded_Y)"
   ]
  },
  {
   "cell_type": "code",
   "execution_count": 15,
   "metadata": {},
   "outputs": [
    {
     "data": {
      "text/html": [
       "<div>\n",
       "<style scoped>\n",
       "    .dataframe tbody tr th:only-of-type {\n",
       "        vertical-align: middle;\n",
       "    }\n",
       "\n",
       "    .dataframe tbody tr th {\n",
       "        vertical-align: top;\n",
       "    }\n",
       "\n",
       "    .dataframe thead th {\n",
       "        text-align: right;\n",
       "    }\n",
       "</style>\n",
       "<table border=\"1\" class=\"dataframe\">\n",
       "  <thead>\n",
       "    <tr style=\"text-align: right;\">\n",
       "      <th></th>\n",
       "      <th>deceptive</th>\n",
       "      <th>hotel</th>\n",
       "      <th>polarity</th>\n",
       "      <th>source</th>\n",
       "      <th>text</th>\n",
       "      <th>final_class</th>\n",
       "      <th>given_class</th>\n",
       "    </tr>\n",
       "  </thead>\n",
       "  <tbody>\n",
       "    <tr>\n",
       "      <th>0</th>\n",
       "      <td>1</td>\n",
       "      <td>conrad</td>\n",
       "      <td>1</td>\n",
       "      <td>TripAdvisor</td>\n",
       "      <td>We stayed for a one night getaway with family ...</td>\n",
       "      <td>[1, 1]</td>\n",
       "      <td>3</td>\n",
       "    </tr>\n",
       "    <tr>\n",
       "      <th>1</th>\n",
       "      <td>1</td>\n",
       "      <td>hyatt</td>\n",
       "      <td>1</td>\n",
       "      <td>TripAdvisor</td>\n",
       "      <td>Triple A rate with upgrade to view room was le...</td>\n",
       "      <td>[1, 1]</td>\n",
       "      <td>3</td>\n",
       "    </tr>\n",
       "    <tr>\n",
       "      <th>2</th>\n",
       "      <td>1</td>\n",
       "      <td>hyatt</td>\n",
       "      <td>1</td>\n",
       "      <td>TripAdvisor</td>\n",
       "      <td>This comes a little late as I'm finally catchi...</td>\n",
       "      <td>[1, 1]</td>\n",
       "      <td>3</td>\n",
       "    </tr>\n",
       "    <tr>\n",
       "      <th>3</th>\n",
       "      <td>1</td>\n",
       "      <td>omni</td>\n",
       "      <td>1</td>\n",
       "      <td>TripAdvisor</td>\n",
       "      <td>The Omni Chicago really delivers on all fronts...</td>\n",
       "      <td>[1, 1]</td>\n",
       "      <td>3</td>\n",
       "    </tr>\n",
       "    <tr>\n",
       "      <th>4</th>\n",
       "      <td>1</td>\n",
       "      <td>hyatt</td>\n",
       "      <td>1</td>\n",
       "      <td>TripAdvisor</td>\n",
       "      <td>I asked for a high floor away from the elevato...</td>\n",
       "      <td>[1, 1]</td>\n",
       "      <td>3</td>\n",
       "    </tr>\n",
       "  </tbody>\n",
       "</table>\n",
       "</div>"
      ],
      "text/plain": [
       "   deceptive   hotel  polarity       source  \\\n",
       "0          1  conrad         1  TripAdvisor   \n",
       "1          1   hyatt         1  TripAdvisor   \n",
       "2          1   hyatt         1  TripAdvisor   \n",
       "3          1    omni         1  TripAdvisor   \n",
       "4          1   hyatt         1  TripAdvisor   \n",
       "\n",
       "                                                text final_class  given_class  \n",
       "0  We stayed for a one night getaway with family ...      [1, 1]            3  \n",
       "1  Triple A rate with upgrade to view room was le...      [1, 1]            3  \n",
       "2  This comes a little late as I'm finally catchi...      [1, 1]            3  \n",
       "3  The Omni Chicago really delivers on all fronts...      [1, 1]            3  \n",
       "4  I asked for a high floor away from the elevato...      [1, 1]            3  "
      ]
     },
     "execution_count": 15,
     "metadata": {},
     "output_type": "execute_result"
    }
   ],
   "source": [
    "data.head()"
   ]
  },
  {
   "cell_type": "code",
   "execution_count": 16,
   "metadata": {
    "_cell_guid": "358caced-4efe-454d-b9e6-fb1db61c3cd5",
    "_uuid": "5a2723885623b4e5c62d5cbf04b639450ebcd486"
   },
   "outputs": [],
   "source": [
    "textData = pd.DataFrame(list(data['text'])) # each row is one document; the raw text of the document should be in the 'text_data' column"
   ]
  },
  {
   "cell_type": "code",
   "execution_count": 17,
   "metadata": {
    "_cell_guid": "727195f6-a01b-478c-9e6e-f63f9e0bcb51",
    "_uuid": "b4b122f69da68f42742cf97da439dc067b1a5a52"
   },
   "outputs": [],
   "source": [
    "# initialize stemmer\n",
    "stemmer = snowballstemmer.EnglishStemmer()\n",
    "\n",
    "# grab stopword list, extend it a bit, and then turn it into a set for later\n",
    "stop = stopwords.words('english')\n",
    "stop.extend(['may','also','zero','one','two','three','four','five','six','seven','eight','nine','ten','across','among','beside','however','yet','within']+list(ascii_lowercase))\n",
    "stoplist = stemmer.stemWords(stop)\n",
    "stoplist = set(stoplist)\n",
    "stop = set(sorted(stop + list(stoplist))) "
   ]
  },
  {
   "cell_type": "code",
   "execution_count": 18,
   "metadata": {
    "_cell_guid": "3bf58a8f-b3aa-41d0-af3b-4eca01d7f7bb",
    "_uuid": "8a53f638d29e5bf6c6859dff180ddd45611c6f4a"
   },
   "outputs": [],
   "source": [
    "# remove characters and stoplist words, then generate dictionary of unique words\n",
    "textData[0].replace('[!\"#%\\'()*+,-./:;<=>?@\\[\\]^_`{|}~1234567890’”“′‘\\\\\\]',' ',inplace=True,regex=True)\n",
    "wordlist = filter(None, \" \".join(list(set(list(itertools.chain(*textData[0].str.split(' ')))))).split(\" \"))\n",
    "data['stemmed_text_data'] = [' '.join(filter(None,filter(lambda word: word not in stop, line))) for line in textData[0].str.lower().str.split(' ')]"
   ]
  },
  {
   "cell_type": "code",
   "execution_count": 19,
   "metadata": {
    "_cell_guid": "0a714384-6691-4178-94f8-6bc7e7771908",
    "_uuid": "7c57c1e8ed3f743e63850290bf5ed6030dcb95e3"
   },
   "outputs": [],
   "source": [
    "# remove all words that don't occur at least 5 times and then stem the resulting docs\n",
    "minimum_count = 1\n",
    "str_frequencies = pd.DataFrame(list(Counter(filter(None,list(itertools.chain(*data['stemmed_text_data'].str.split(' '))))).items()),columns=['word','count'])\n",
    "low_frequency_words = set(str_frequencies[str_frequencies['count'] < minimum_count]['word'])\n",
    "data['stemmed_text_data'] = [' '.join(filter(None,filter(lambda word: word not in low_frequency_words, line))) for line in data['stemmed_text_data'].str.split(' ')]\n",
    "data['stemmed_text_data'] = [\" \".join(stemmer.stemWords(re.sub('[!\"#%\\'()*+,-./:;<=>?@\\[\\]^_`{|}~1234567890’”“′‘\\\\\\]',' ', next_text).split(' '))) for next_text in data['stemmed_text_data']]    "
   ]
  },
  {
   "cell_type": "code",
   "execution_count": 20,
   "metadata": {
    "_cell_guid": "ad04c9ec-5721-4a55-bcec-afd7f4e150db",
    "_uuid": "3067446c5a55f58f67fcc4d1eb9cb1f0eea8a339"
   },
   "outputs": [],
   "source": [
    "lmtzr = WordNetLemmatizer()\n",
    "w = re.compile(\"\\w+\",re.I)\n",
    "\n",
    "def label_sentences(df, input_point):\n",
    "    labeled_sentences = []\n",
    "    list_sen = []\n",
    "    for index, datapoint in df.iterrows():\n",
    "        tokenized_words = re.findall(w,datapoint[input_point].lower())\n",
    "        labeled_sentences.append(LabeledSentence(words=tokenized_words, tags=['SENT_%s' %index]))\n",
    "        list_sen.append(tokenized_words)\n",
    "    return labeled_sentences, list_sen\n",
    "\n",
    "def train_doc2vec_model(labeled_sentences):\n",
    "    model = Doc2Vec(min_count=1, window=9, size=512, sample=1e-4, negative=5, workers=7)\n",
    "    model.build_vocab(labeled_sentences)\n",
    "    pretrained_weights = model.wv.syn0\n",
    "    vocab_size, embedding_size = pretrained_weights.shape\n",
    "    model.train(labeled_sentences, total_examples=vocab_size, epochs=400)\n",
    "    \n",
    "    return model"
   ]
  },
  {
   "cell_type": "code",
   "execution_count": 21,
   "metadata": {
    "_cell_guid": "1cab13d3-d608-4e49-89fc-5076835f4ab2",
    "_uuid": "2bf3e3c0bef170d0601e098b159ea758a3aeb461"
   },
   "outputs": [
    {
     "name": "stderr",
     "output_type": "stream",
     "text": [
      "<ipython-input-20-1453ad03773f>:9: DeprecationWarning: Call to deprecated `LabeledSentence` (Class will be removed in 4.0.0, use TaggedDocument instead).\n",
      "  labeled_sentences.append(LabeledSentence(words=tokenized_words, tags=['SENT_%s' %index]))\n"
     ]
    }
   ],
   "source": [
    "textData = data['stemmed_text_data'].to_frame().reset_index()\n",
    "sen, corpus = label_sentences(textData, 'stemmed_text_data')"
   ]
  },
  {
   "cell_type": "code",
   "execution_count": 22,
   "metadata": {
    "_cell_guid": "a84fe753-6f2c-44d9-990a-af41a34a282b",
    "_uuid": "fdf41cbef8aed8c77625debd753d88b37ed108ca",
    "scrolled": true
   },
   "outputs": [
    {
     "name": "stderr",
     "output_type": "stream",
     "text": [
      "/home/m1key/anaconda3/lib/python3.8/site-packages/gensim/models/doc2vec.py:574: UserWarning: The parameter `size` is deprecated, will be removed in 4.0.0, use `vector_size` instead.\n",
      "  warnings.warn(\"The parameter `size` is deprecated, will be removed in 4.0.0, use `vector_size` instead.\")\n",
      "<ipython-input-20-1453ad03773f>:16: DeprecationWarning: Call to deprecated `syn0` (Attribute will be removed in 4.0.0, use self.vectors instead).\n",
      "  pretrained_weights = model.wv.syn0\n"
     ]
    }
   ],
   "source": [
    "doc2vec_model = train_doc2vec_model(sen)"
   ]
  },
  {
   "cell_type": "code",
   "execution_count": 23,
   "metadata": {
    "_cell_guid": "bcbdbe26-8a3f-4350-8633-3d9aaf0c172e",
    "_uuid": "4de396cec1aeb9a63648d1aa6ac93d3914c05b78"
   },
   "outputs": [],
   "source": [
    "doc2vec_model.save(\"doc2vec_model_opinion_corpus.d2v\")"
   ]
  },
  {
   "cell_type": "code",
   "execution_count": 24,
   "metadata": {
    "_cell_guid": "3fe3f2b0-b681-421c-9adc-682796f97387",
    "_uuid": "161eecd1a6baac4e39bfa9f5b7620ece1165ecc7"
   },
   "outputs": [],
   "source": [
    "doc2vec_model = Doc2Vec.load(\"doc2vec_model_opinion_corpus.d2v\") "
   ]
  },
  {
   "cell_type": "code",
   "execution_count": 25,
   "metadata": {
    "_cell_guid": "e4bc5f09-3bbf-4ddf-97e1-e497c210d6ae",
    "_uuid": "fb98f66f270a63bfd0d82bb1cfcacd18dae40873"
   },
   "outputs": [],
   "source": [
    "from sklearn.feature_extraction.text import TfidfVectorizer\n",
    "from sklearn.decomposition import TruncatedSVD\n",
    "\n",
    "tfidf1 = TfidfVectorizer(tokenizer=lambda i:i, lowercase=False, ngram_range=(1,1))\n",
    "result_train1 = tfidf1.fit_transform(corpus)\n",
    "\n",
    "tfidf2 = TfidfVectorizer(tokenizer=lambda i:i, lowercase=False, ngram_range=(1,2))\n",
    "result_train2 = tfidf2.fit_transform(corpus)\n",
    "\n",
    "tfidf3 = TfidfVectorizer(tokenizer=lambda i:i, lowercase=False, ngram_range=(1,3))\n",
    "result_train3 = tfidf3.fit_transform(corpus)\n",
    "\n",
    "svd = TruncatedSVD(n_components=512, n_iter=40, random_state=34)\n",
    "tfidf_data1 = svd.fit_transform(result_train1)\n",
    "tfidf_data2 = svd.fit_transform(result_train2)\n",
    "tfidf_data3 = svd.fit_transform(result_train3)"
   ]
  },
  {
   "cell_type": "code",
   "execution_count": 26,
   "metadata": {
    "_cell_guid": "ef1dbd5a-e69e-4b56-9ff3-c74ce62fdfdd",
    "_uuid": "bfd26d39cd104b2bf443fc52992437751fa852b7"
   },
   "outputs": [],
   "source": [
    "from sklearn.feature_extraction.text import CountVectorizer\n",
    "import spacy\n",
    "\n",
    "nlp = spacy.load('en')\n",
    "temp_textData = pd.DataFrame(list(data['text']))\n",
    "\n",
    "overall_pos_tags_tokens = []\n",
    "overall_pos = []\n",
    "overall_tokens = []\n",
    "overall_dep = []\n",
    "\n",
    "for i in range(1600):\n",
    "    doc = nlp(temp_textData[0][i])\n",
    "    given_pos_tags_tokens = []\n",
    "    given_pos = []\n",
    "    given_tokens = []\n",
    "    given_dep = []\n",
    "    for token in doc:\n",
    "        output = \"%s_%s\" % (token.pos_, token.tag_)\n",
    "        given_pos_tags_tokens.append(output)\n",
    "        given_pos.append(token.pos_)\n",
    "        given_tokens.append(token.tag_)\n",
    "        given_dep.append(token.dep_)\n",
    "        \n",
    "    overall_pos_tags_tokens.append(given_pos_tags_tokens)\n",
    "    overall_pos.append(given_pos)\n",
    "    overall_tokens.append(given_tokens)\n",
    "    overall_dep.append(given_dep)\n"
   ]
  },
  {
   "cell_type": "code",
   "execution_count": 27,
   "metadata": {
    "_cell_guid": "dbcdbe6d-0c7f-44dc-a9d6-0f240d339885",
    "_uuid": "1c19ee8bd8fb5862cc5d25225b0684dd755ee8b2",
    "scrolled": true
   },
   "outputs": [],
   "source": [
    "from sklearn.preprocessing import MinMaxScaler\n",
    "\n",
    "count = CountVectorizer(tokenizer=lambda i:i, lowercase=False)\n",
    "pos_tags_data = count.fit_transform(overall_pos_tags_tokens).todense()\n",
    "pos_data = count.fit_transform(overall_pos).todense()\n",
    "tokens_data = count.fit_transform(overall_tokens).todense()\n",
    "dep_data = count.fit_transform(overall_dep).todense()\n",
    "min_max_scaler = MinMaxScaler()\n",
    "normalized_pos_tags_data = min_max_scaler.fit_transform(pos_tags_data)\n",
    "normalized_pos_data = min_max_scaler.fit_transform(pos_data)\n",
    "normalized_tokens_data = min_max_scaler.fit_transform(tokens_data)\n",
    "normalized_dep_data = min_max_scaler.fit_transform(dep_data)\n",
    "\n",
    "final_pos_tags_data = np.zeros(shape=(1600, 512)).astype(np.float32)\n",
    "final_pos_data = np.zeros(shape=(1600, 512)).astype(np.float32)\n",
    "final_tokens_data = np.zeros(shape=(1600, 512)).astype(np.float32)\n",
    "final_dep_data = np.zeros(shape=(1600, 512)).astype(np.float32)\n",
    "final_pos_tags_data[:normalized_pos_tags_data.shape[0],:normalized_pos_tags_data.shape[1]] = normalized_pos_tags_data\n",
    "final_pos_data[:normalized_pos_data.shape[0],:normalized_pos_data.shape[1]] = normalized_pos_data\n",
    "final_tokens_data[:normalized_tokens_data.shape[0],:normalized_tokens_data.shape[1]] = normalized_tokens_data\n",
    "final_dep_data[:normalized_dep_data.shape[0],:normalized_dep_data.shape[1]] = normalized_dep_data"
   ]
  },
  {
   "cell_type": "code",
   "execution_count": 28,
   "metadata": {
    "_cell_guid": "57e0d758-a2b5-4a24-a60e-cfa2df06572f",
    "_uuid": "e6474b59e587fbafbd2ea8801a50ef6d787a5868"
   },
   "outputs": [
    {
     "name": "stdout",
     "output_type": "stream",
     "text": [
      "370\n"
     ]
    }
   ],
   "source": [
    "maxlength = []\n",
    "for i in range(0,len(sen)):\n",
    "    maxlength.append(len(sen[i][0]))\n",
    "    \n",
    "print(max(maxlength))   "
   ]
  },
  {
   "cell_type": "code",
   "execution_count": 29,
   "metadata": {
    "_cell_guid": "dda366e0-43b7-4b35-8f31-c41d572375d4",
    "_uuid": "f53332f2ce02fee41617d0205c524ebe26c4a90d"
   },
   "outputs": [
    {
     "name": "stdout",
     "output_type": "stream",
     "text": [
      "   index                                  stemmed_text_data  \\\n",
      "0      0  stay night getaway famili thursday tripl aaa r...   \n",
      "1      1  tripl rate upgrad view room less $ includ brea...   \n",
      "\n",
      "                                 vectorized_comments  \n",
      "0  [1.4698797, -0.5320272, -0.5599402, 0.24420372...  \n",
      "1  [-0.1209176, 0.24846916, 0.0026744336, -0.1490...  \n"
     ]
    }
   ],
   "source": [
    "def vectorize_comments(df,d2v_model):\n",
    "    y = []\n",
    "    comments = []\n",
    "    for i in range(0,df.shape[0]):\n",
    "        label = 'SENT_%s' %i\n",
    "        comments.append(d2v_model.docvecs[label])\n",
    "    df['vectorized_comments'] = comments\n",
    "    \n",
    "    return df\n",
    "\n",
    "textData = vectorize_comments(textData,doc2vec_model)\n",
    "print (textData.head(2))"
   ]
  },
  {
   "cell_type": "code",
   "execution_count": 30,
   "metadata": {
    "_cell_guid": "3fafb37f-8eee-4de3-80a0-0587f7075bc7",
    "_uuid": "b978f4c41b6adc60490f0c6e048b3195249b9629"
   },
   "outputs": [],
   "source": [
    "# load the whole embedding into memory\n",
    "#embeddings_index = dict()\n",
    "#f = open('glove/glove.6B.300d.txt')\n",
    "#for line in f:\n",
    "#    values = line.split()\n",
    "#    word = values[0]\n",
    "#    coefs = np.asarray(values[1:], dtype='float32')\n",
    "#    embeddings_index[word] = coefs\n",
    "#f.close()\n",
    "#print('Loaded %s word vectors.' % len(embeddings_index))"
   ]
  },
  {
   "cell_type": "code",
   "execution_count": 31,
   "metadata": {
    "_cell_guid": "08eadfe1-897d-4e46-bc46-95a5e452a618",
    "_uuid": "b99088a77d8d46e52ba16259ffba4b655265f3cd"
   },
   "outputs": [],
   "source": [
    "#from nltk.corpus import stopwords\n",
    "\n",
    "#glove_data = np.zeros(shape=(1600, 800, 512)).astype(np.float32)\n",
    "#temp_textData = data['text'].to_frame().reset_index()\n",
    "#sen2, corpus2 = label_sentences(temp_textData, 'text')\n",
    "#stop_words = set(stopwords.words('english'))\n",
    "#test_word = np.zeros(512).astype(np.float32)\n",
    "#final_matrix = np.zeros(512).astype(np.float32)\n",
    "#final_sizes = []\n",
    "\n",
    "#count = True\n",
    "\n",
    "#for i in range(1600):\n",
    "#    for j in sen2[i][0]:\n",
    "#        if j in embeddings_index and j not in stop_words:\n",
    "#            test_word[:300] = embeddings_index[j]\n",
    "#            if count == True:\n",
    "#                final_matrix = test_word\n",
    "#                count = False\n",
    "#            else:\n",
    "#                final_matrix = np.vstack((final_matrix, test_word))\n",
    "            \n",
    "#    final_sizes.append(final_matrix.shape[0])\n",
    "#    final_matrix = np.zeros(512).astype(np.float32)\n",
    "#    glove_data[i,:final_matrix.shape[0],:] = final_matrix\n",
    "#    count = True\n",
    "    \n",
    "#print(max(final_sizes))"
   ]
  },
  {
   "cell_type": "code",
   "execution_count": 32,
   "metadata": {
    "_cell_guid": "b2a454a7-34dd-4eb5-93ac-ac891eb7e9fe",
    "_uuid": "4ebed90a6e28ab4de06c3037761106b6f6a0f4e5",
    "scrolled": true
   },
   "outputs": [],
   "source": [
    "from sklearn.model_selection import train_test_split\n",
    "from sklearn.model_selection import cross_validate,GridSearchCV \n",
    "\n",
    "X_train, X_test, y_train, y_test = train_test_split(textData[\"vectorized_comments\"].T.tolist(), \n",
    "                                                                     dummy_y, \n",
    "                                                                     test_size=0.1, \n",
    "                                                                     random_state=56)"
   ]
  },
  {
   "cell_type": "code",
   "execution_count": 33,
   "metadata": {
    "_cell_guid": "19c5322f-c579-4b9b-91fb-ebca06c6715f",
    "_uuid": "2c4e424e1c6f1a3a6abb7beb8eec6f33d3bc2622"
   },
   "outputs": [],
   "source": [
    "X = np.array(textData[\"vectorized_comments\"].T.tolist()).reshape((1,1600,512))\n",
    "y = np.array(dummy_y).reshape((1600,4))\n",
    "X_train2 = np.array(X_train).reshape((1,1440,512))\n",
    "y_train2 = np.array(y_train).reshape((1,1440,4))\n",
    "X_test2 = np.array(X_test).reshape((1,160,512))\n",
    "y_test2 = np.array(y_test).reshape((1,160,4))"
   ]
  },
  {
   "cell_type": "code",
   "execution_count": 34,
   "metadata": {
    "_cell_guid": "00a664f3-390b-4f40-9580-8ca6c3021678",
    "_uuid": "87b1e9251955272eee9475662179a60dc030a399"
   },
   "outputs": [],
   "source": [
    "from sklearn.model_selection import StratifiedKFold\n",
    "Xtemp = textData[\"vectorized_comments\"].T.tolist()\n",
    "ytemp = data['given_class']\n",
    "training_indices = []\n",
    "testing_indices = []\n",
    "\n",
    "skf = StratifiedKFold(n_splits=10)\n",
    "skf.get_n_splits(Xtemp, ytemp)\n",
    "\n",
    "for train_index, test_index in skf.split(Xtemp, ytemp):\n",
    "    training_indices.append(train_index)\n",
    "    testing_indices.append(test_index)"
   ]
  },
  {
   "cell_type": "code",
   "execution_count": 35,
   "metadata": {
    "_cell_guid": "0fac1165-69ad-4576-9729-8857d625cef1",
    "_uuid": "45bc95366bbb2e542be56aaf5f73582fd65062d4"
   },
   "outputs": [],
   "source": [
    "def extractTrainingAndTestingData(givenIndex):\n",
    "    X_train3 = np.zeros(shape=(1440, max(maxlength)+10, 512)).astype(np.float32)\n",
    "    Y_train3 = np.zeros(shape=(1440, 4)).astype(np.float32)\n",
    "    X_test3 = np.zeros(shape=(160, max(maxlength)+10, 512)).astype(np.float32)\n",
    "    Y_test3 = np.zeros(shape=(160, 4)).astype(np.float32)\n",
    "\n",
    "    empty_word = np.zeros(512).astype(np.float32)\n",
    "\n",
    "    count_i = 0\n",
    "    for i in training_indices[givenIndex]:\n",
    "        len1 = len(sen[i][0])\n",
    "        average_vector1 = np.zeros(512).astype(np.float32)\n",
    "        average_vector2 = np.zeros(512).astype(np.float32)\n",
    "        average_vector3 = np.zeros(512).astype(np.float32)\n",
    "        for j in range(max(maxlength)+10):\n",
    "            if j < len1:\n",
    "                X_train3[count_i,j,:] = doc2vec_model[sen[i][0][j]]\n",
    "                average_vector1 += result_train1[i, tfidf1.vocabulary_[sen[i][0][j]]] * doc2vec_model[sen[i][0][j]]\n",
    "                average_vector2 += result_train2[i, tfidf2.vocabulary_[sen[i][0][j]]] * doc2vec_model[sen[i][0][j]]\n",
    "                average_vector3 += result_train3[i, tfidf3.vocabulary_[sen[i][0][j]]] * doc2vec_model[sen[i][0][j]]\n",
    "            #elif j >= len1 and j < len1 + 379:\n",
    "            #    X_train3[count_i,j,:] = glove_data[i, j-len1, :]\n",
    "            elif j == len1:\n",
    "                X_train3[count_i,j,:] = tfidf_data1[i]\n",
    "            elif j == len1 + 1:\n",
    "                X_train3[count_i,j,:] = tfidf_data2[i]\n",
    "            elif j == len1+2:\n",
    "                X_train3[count_i,j,:] = tfidf_data3[i]\n",
    "            elif j == len1+3:\n",
    "                X_train3[count_i,j,:] = average_vector1\n",
    "            elif j == len1+4:\n",
    "                X_train3[count_i,j,:] = average_vector2\n",
    "            elif j == len1+5:\n",
    "                X_train3[count_i,j,:] = average_vector3\n",
    "            elif j == len1+6:\n",
    "                X_train3[count_i,j,:] = final_pos_tags_data[i] \n",
    "            elif j == len1+7:\n",
    "                X_train3[count_i,j,:] = final_pos_data[i]\n",
    "            elif j == len1+8:\n",
    "                X_train3[count_i,j,:] = final_tokens_data[i]\n",
    "            elif j == len1+9:\n",
    "                X_train3[count_i,j,:] = final_dep_data[i]\n",
    "            else:\n",
    "                X_train3[count_i,j,:] = empty_word\n",
    "\n",
    "        Y_train3[count_i,:] = dummy_y[i]\n",
    "        count_i += 1\n",
    "\n",
    "\n",
    "    count_i = 0\n",
    "    for i in testing_indices[givenIndex]:\n",
    "        len1 = len(sen[i][0])\n",
    "        average_vector1 = np.zeros(512).astype(np.float32)\n",
    "        average_vector2 = np.zeros(512).astype(np.float32)\n",
    "        average_vector3 = np.zeros(512).astype(np.float32)\n",
    "        for j in range(max(maxlength)+10):\n",
    "            if j < len1:\n",
    "                X_test3[count_i,j,:] = doc2vec_model[sen[i][0][j]]\n",
    "                average_vector1 += result_train1[i, tfidf1.vocabulary_[sen[i][0][j]]] * doc2vec_model[sen[i][0][j]]\n",
    "                average_vector2 += result_train2[i, tfidf2.vocabulary_[sen[i][0][j]]] * doc2vec_model[sen[i][0][j]]  \n",
    "                average_vector3 += result_train3[i, tfidf3.vocabulary_[sen[i][0][j]]] * doc2vec_model[sen[i][0][j]]\n",
    "            #elif j >= len1 and j < len1 + 379:\n",
    "            #    X_test3[count_i,j,:] = glove_data[i, j-len1, :]\n",
    "            elif j == len1:\n",
    "                X_test3[count_i,j,:] = tfidf_data1[i]\n",
    "            elif j == len1 + 1:\n",
    "                X_test3[count_i,j,:] = tfidf_data2[i]\n",
    "            elif j == len1+2:\n",
    "                X_test3[count_i,j,:] = tfidf_data3[i]\n",
    "            elif j == len1+3:\n",
    "                X_test3[count_i,j,:] = average_vector1\n",
    "            elif j == len1+4:\n",
    "                X_test3[count_i,j,:] = average_vector2\n",
    "            elif j == len1+5:\n",
    "                X_test3[count_i,j,:] = average_vector3\n",
    "            elif j == len1+6:\n",
    "                X_test3[count_i,j,:] = final_pos_tags_data[i]\n",
    "            elif j == len1+7:\n",
    "                X_test3[count_i,j,:] = final_pos_data[i]\n",
    "            elif j == len1+8:\n",
    "                X_test3[count_i,j,:] = final_tokens_data[i]\n",
    "            elif j == len1+9:\n",
    "                X_test3[count_i,j,:] = final_dep_data[i]\n",
    "            else:\n",
    "                X_test3[count_i,j,:] = empty_word\n",
    "\n",
    "        Y_test3[count_i,:] = dummy_y[i]\n",
    "        count_i += 1\n",
    "        \n",
    "    return X_train3, X_test3, Y_train3, Y_test3\n",
    "    "
   ]
  },
  {
   "cell_type": "code",
   "execution_count": 36,
   "metadata": {
    "_cell_guid": "1c0d8684-466d-48e6-9afa-bc30ff388a26",
    "_uuid": "b7d99866c070dbf1851fa20d0a242cf1623997ee",
    "scrolled": true
   },
   "outputs": [
    {
     "name": "stdout",
     "output_type": "stream",
     "text": [
      "Model: \"sequential\"\n",
      "_________________________________________________________________\n",
      "Layer (type)                 Output Shape              Param #   \n",
      "=================================================================\n",
      "conv1d (Conv1D)              (None, 380, 128)          589952    \n",
      "_________________________________________________________________\n",
      "dropout (Dropout)            (None, 380, 128)          0         \n",
      "_________________________________________________________________\n",
      "max_pooling1d (MaxPooling1D) (None, 190, 128)          0         \n",
      "_________________________________________________________________\n",
      "dropout_1 (Dropout)          (None, 190, 128)          0         \n",
      "_________________________________________________________________\n",
      "conv1d_1 (Conv1D)            (None, 190, 128)          114816    \n",
      "_________________________________________________________________\n",
      "dropout_2 (Dropout)          (None, 190, 128)          0         \n",
      "_________________________________________________________________\n",
      "max_pooling1d_1 (MaxPooling1 (None, 95, 128)           0         \n",
      "_________________________________________________________________\n",
      "dropout_3 (Dropout)          (None, 95, 128)           0         \n",
      "_________________________________________________________________\n",
      "conv1d_2 (Conv1D)            (None, 95, 128)           82048     \n",
      "_________________________________________________________________\n",
      "dropout_4 (Dropout)          (None, 95, 128)           0         \n",
      "_________________________________________________________________\n",
      "bidirectional (Bidirectional (None, 100)               71600     \n",
      "_________________________________________________________________\n",
      "dense (Dense)                (None, 4)                 404       \n",
      "=================================================================\n",
      "Total params: 858,820\n",
      "Trainable params: 858,820\n",
      "Non-trainable params: 0\n",
      "_________________________________________________________________\n",
      "None\n"
     ]
    }
   ],
   "source": [
    "model = Sequential()\n",
    "model.add(Conv1D(filters=128, kernel_size=9, padding='same', activation='relu', input_shape=(max(maxlength)+10,512)))\n",
    "model.add(Dropout(0.25))\n",
    "model.add(MaxPooling1D(pool_size=2))\n",
    "model.add(Dropout(0.25))\n",
    "model.add(Conv1D(filters=128, kernel_size=7, padding='same', activation='relu'))\n",
    "model.add(Dropout(0.25))\n",
    "model.add(MaxPooling1D(pool_size=2))\n",
    "model.add(Dropout(0.25))\n",
    "model.add(Conv1D(filters=128, kernel_size=5, padding='same', activation='relu'))\n",
    "model.add(Dropout(0.25))\n",
    "#model.add(MaxPooling1D(pool_size=2))\n",
    "#model.add(Dropout(0.25))\n",
    "#model.add(Conv1D(filters=32, kernel_size=2, padding='same', activation='relu'))\n",
    "#model.add(Dropout(0.25))\n",
    "#model.add(MaxPooling1D(pool_size=2))\n",
    "#model.add(Dropout(0.25))\n",
    "\n",
    "#model.add(Bidirectional(LSTM(50, dropout=0.3, recurrent_dropout=0.2, return_sequences=True)))\n",
    "model.add(Bidirectional(LSTM(50, dropout=0.25, recurrent_dropout=0.2)))\n",
    "model.add(Dense(4, activation='softmax'))\n",
    "model.compile(loss='binary_crossentropy', optimizer='Adam', metrics=['accuracy'])\n",
    "print(model.summary())"
   ]
  },
  {
   "cell_type": "code",
   "execution_count": 37,
   "metadata": {
    "_cell_guid": "a8ec219d-90d2-4f03-97ac-52323bd112c8",
    "_uuid": "a81ad9005cf0c09a134930e20e9e14d3809e3c82",
    "scrolled": false
   },
   "outputs": [],
   "source": [
    "from sklearn.metrics import accuracy_score\n",
    "from keras.callbacks import ModelCheckpoint \n",
    "\n",
    "final_accuracies = []\n",
    "    \n",
    "filename = 'weights.best.from_scratch%s.hdf5' % 9\n",
    "checkpointer = ModelCheckpoint(filepath=filename, verbose=1, save_best_only=True)\n",
    "X_train3, X_test3, Y_train3, Y_test3 = extractTrainingAndTestingData(9)"
   ]
  },
  {
   "cell_type": "code",
   "execution_count": null,
   "metadata": {},
   "outputs": [
    {
     "name": "stdout",
     "output_type": "stream",
     "text": [
      "Epoch 1/15\n"
     ]
    }
   ],
   "source": [
    "history = model.fit(X_train3, Y_train3, epochs=15, batch_size=512, callbacks=[checkpointer], validation_data=(X_test3, Y_test3), verbose=1)"
   ]
  },
  {
   "cell_type": "code",
   "execution_count": 69,
   "metadata": {},
   "outputs": [
    {
     "name": "stdout",
     "output_type": "stream",
     "text": [
      "160/160 [==============================] - 1s 6ms/step\n"
     ]
    },
    {
     "data": {
      "text/plain": [
       "[0.20703359246253966, 0.921875]"
      ]
     },
     "execution_count": 69,
     "metadata": {},
     "output_type": "execute_result"
    }
   ],
   "source": [
    "model.evaluate(X_test3, Y_test3)"
   ]
  },
  {
   "cell_type": "code",
   "execution_count": 70,
   "metadata": {},
   "outputs": [],
   "source": [
    "import matplotlib.pyplot as plt"
   ]
  },
  {
   "cell_type": "code",
   "execution_count": 71,
   "metadata": {},
   "outputs": [
    {
     "data": {
      "image/png": "[encoded data removed]",
      "text/plain": [
       "<Figure size 432x288 with 1 Axes>"
      ]
     },
     "metadata": {
      "needs_background": "light"
     },
     "output_type": "display_data"
    },
    {
     "data": {
      "image/png": "[encoded data removed]",
      "text/plain": [
       "<Figure size 432x288 with 1 Axes>"
      ]
     },
     "metadata": {
      "needs_background": "light"
     },
     "output_type": "display_data"
    }
   ],
   "source": [
    "# Plot training & validation accuracy values\n",
    "plt.plot(history.history['acc'])\n",
    "plt.plot(history.history['val_acc'])\n",
    "plt.title('Model accuracy')\n",
    "plt.ylabel('Accuracy')\n",
    "plt.xlabel('Epoch')\n",
    "plt.legend(['Train', 'Test'], loc='upper left')\n",
    "plt.show()\n",
    "\n",
    "# Plot training & validation loss values\n",
    "plt.plot(history.history['loss'])\n",
    "plt.plot(history.history['val_loss'])\n",
    "plt.title('Model loss')\n",
    "plt.ylabel('Loss')\n",
    "plt.xlabel('Epoch')\n",
    "plt.legend(['Train', 'Test'], loc='upper left')\n",
    "plt.show()"
   ]
  },
  {
   "cell_type": "code",
   "execution_count": null,
   "metadata": {},
   "outputs": [],
   "source": [
    "model.load_weights(filename)"
   ]
  },
  {
   "cell_type": "code",
   "execution_count": null,
   "metadata": {},
   "outputs": [],
   "source": [
    "for i in range(10):\n",
    "    filename = 'weights.best.from_scratch%s.hdf5' % i\n",
    "    checkpointer = ModelCheckpoint(filepath=filename, verbose=1, save_best_only=True)\n",
    "    X_train3, X_test3, Y_train3, Y_test3 = extractTrainingAndTestingData(i)\n",
    "    model.fit(X_train3, Y_train3, epochs=10, batch_size=512, callbacks=[checkpointer], validation_data=(X_test3, Y_test3))\n",
    "    model.load_weights(filename)\n",
    "    predicted = np.rint(model.predict(X_test3))\n",
    "    final_accuracies.append(accuracy_score(Y_test3, predicted))\n",
    "    print(accuracy_score(Y_test3, predicted))"
   ]
  },
  {
   "cell_type": "code",
   "execution_count": null,
   "metadata": {
    "_cell_guid": "d7883c70-f74b-4389-85fe-ff575dd15a61",
    "_uuid": "2d96181354f0499ae115b2041997108afa8946dd",
    "collapsed": true
   },
   "outputs": [],
   "source": [
    "print(sum(final_accuracies) / len(final_accuracies))"
   ]
  },
  {
   "cell_type": "code",
   "execution_count": null,
   "metadata": {
    "_cell_guid": "a81ce0af-44a8-4081-8a54-73c8ffc97bdf",
    "_uuid": "e9c5ad94f4a4c5ad58e9e588782fc544839b8169",
    "collapsed": true
   },
   "outputs": [],
   "source": []
  }
 ],
 "metadata": {
  "kernelspec": {
   "display_name": "Python 3",
   "language": "python",
   "name": "python3"
  },
  "language_info": {
   "codemirror_mode": {
    "name": "ipython",
    "version": 3
   },
   "file_extension": ".py",
   "mimetype": "text/x-python",
   "name": "python",
   "nbconvert_exporter": "python",
   "pygments_lexer": "ipython3",
   "version": "3.8.8"
  }
 },
 "nbformat": 4,
 "nbformat_minor": 1
}
